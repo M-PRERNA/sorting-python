{
 "cells": [
  {
   "cell_type": "markdown",
   "metadata": {},
   "source": [
    "# SORTING ALGORITHMS IN PYTHON - 22/1/21"
   ]
  },
  {
   "cell_type": "markdown",
   "metadata": {},
   "source": [
    "# BUBBLE SORT"
   ]
  },
  {
   "cell_type": "code",
   "execution_count": 3,
   "metadata": {},
   "outputs": [],
   "source": [
    "def bubble_sort(arr):\n",
    "    \n",
    "    for i in range (len(arr)-1,0,-1):\n",
    "        for k in range (i):\n",
    "            if arr[k]>arr[k+1]:\n",
    "                arr[k],arr[k+1] = arr[k+1],arr[k]\n",
    "                "
   ]
  },
  {
   "cell_type": "code",
   "execution_count": 5,
   "metadata": {},
   "outputs": [],
   "source": [
    "arr = [5,3,8,1,6]\n",
    "bubble_sort(arr)"
   ]
  },
  {
   "cell_type": "code",
   "execution_count": 6,
   "metadata": {},
   "outputs": [
    {
     "data": {
      "text/plain": [
       "[1, 3, 5, 6, 8]"
      ]
     },
     "execution_count": 6,
     "metadata": {},
     "output_type": "execute_result"
    }
   ],
   "source": [
    "arr"
   ]
  },
  {
   "cell_type": "markdown",
   "metadata": {},
   "source": [
    "# SELECTION SORT"
   ]
  },
  {
   "cell_type": "code",
   "execution_count": 7,
   "metadata": {},
   "outputs": [],
   "source": [
    "def selection_sort(arr):\n",
    "    for slots in range (len(arr)-1, 0, -1):\n",
    "        indexofmax = 0\n",
    "        for location in range (1, slots+1):\n",
    "            if arr[location] > arr[indexofmax]:\n",
    "                indexofmax = location\n",
    "        arr[slots],arr[indexofmax] = arr[indexofmax],arr[slots]"
   ]
  },
  {
   "cell_type": "code",
   "execution_count": 8,
   "metadata": {},
   "outputs": [],
   "source": [
    "arr = [5,3,8,1,6]\n",
    "selection_sort(arr)"
   ]
  },
  {
   "cell_type": "code",
   "execution_count": 9,
   "metadata": {},
   "outputs": [
    {
     "data": {
      "text/plain": [
       "[1, 3, 5, 6, 8]"
      ]
     },
     "execution_count": 9,
     "metadata": {},
     "output_type": "execute_result"
    }
   ],
   "source": [
    "arr"
   ]
  },
  {
   "cell_type": "markdown",
   "metadata": {},
   "source": [
    "# INSERTION SORT"
   ]
  },
  {
   "cell_type": "code",
   "execution_count": 17,
   "metadata": {},
   "outputs": [],
   "source": [
    "def insertion_sort (arr):\n",
    "    for i in range (1, len(arr)):\n",
    "        #consider first element to be sorted\n",
    "        currentval = arr[i]\n",
    "        position = i\n",
    "        \n",
    "        while position>0 and arr[position-1]>currentval:\n",
    "            arr[position] = arr[position-1]\n",
    "            position -= 1\n",
    "            \n",
    "        arr[position] = currentval"
   ]
  },
  {
   "cell_type": "code",
   "execution_count": 21,
   "metadata": {},
   "outputs": [],
   "source": [
    "arr = [5,3,8,1,6]\n",
    "insertion_sort(arr)"
   ]
  },
  {
   "cell_type": "code",
   "execution_count": 22,
   "metadata": {},
   "outputs": [
    {
     "data": {
      "text/plain": [
       "[1, 3, 5, 6, 8]"
      ]
     },
     "execution_count": 22,
     "metadata": {},
     "output_type": "execute_result"
    }
   ],
   "source": [
    "arr"
   ]
  },
  {
   "cell_type": "markdown",
   "metadata": {},
   "source": [
    "# SHELL SORT"
   ]
  },
  {
   "cell_type": "code",
   "execution_count": 26,
   "metadata": {},
   "outputs": [],
   "source": [
    "def shell_sort(arr):\n",
    "    sublistcount = len(arr)//2\n",
    "    while sublistcount>0:\n",
    "        for start in range (sublistcount):\n",
    "            gap_insertion_sort(arr,start,sublistcount)\n",
    "        sublistcount = sublistcount // 2\n",
    "        \n",
    "def gap_insertion_sort(arr, start, gap):\n",
    "    for i in range (start+gap , len(arr), gap):\n",
    "        \n",
    "        currentval = arr[i]\n",
    "        position = i\n",
    "        \n",
    "        while position>=gap and arr[position-gap]>currentval:\n",
    "            arr[position] = arr[position-gap]\n",
    "            position = position-gap\n",
    "            \n",
    "        arr[position] = currentval\n",
    "    "
   ]
  },
  {
   "cell_type": "code",
   "execution_count": 27,
   "metadata": {},
   "outputs": [],
   "source": [
    "arr = [5,3,8,1,6]\n",
    "shell_sort(arr)"
   ]
  },
  {
   "cell_type": "code",
   "execution_count": 28,
   "metadata": {},
   "outputs": [
    {
     "data": {
      "text/plain": [
       "[1, 3, 5, 6, 8]"
      ]
     },
     "execution_count": 28,
     "metadata": {},
     "output_type": "execute_result"
    }
   ],
   "source": [
    "arr"
   ]
  },
  {
   "cell_type": "markdown",
   "metadata": {},
   "source": [
    "# MERGE SORT"
   ]
  },
  {
   "cell_type": "code",
   "execution_count": 29,
   "metadata": {},
   "outputs": [],
   "source": [
    "def merge_sort (arr):\n",
    "    if len(arr)>1:\n",
    "        mid = len(arr)//2\n",
    "        lefthalf = arr[:mid]\n",
    "        righthalf = arr[mid:]\n",
    "        \n",
    "        #dividing \n",
    "        merge_sort(lefthalf)\n",
    "        merge_sort(righthalf)\n",
    "        \n",
    "        #mergesort -conquer\n",
    "        i = 0\n",
    "        j = 0\n",
    "        k = 0\n",
    "        \n",
    "        while i<len(lefthalf) and j<len(righthalf):\n",
    "            if lefthalf[i] < righthalf[j]:\n",
    "                arr[k] = lefthalf[i]\n",
    "                i += 1\n",
    "                k += 1\n",
    "                \n",
    "            else:\n",
    "                arr[k] = righthalf[j]\n",
    "                j += 1 \n",
    "                k += 1\n",
    "                \n",
    "        while i<len(lefthalf):\n",
    "            arr[k] = lefthalf[i]\n",
    "            i += 1\n",
    "            k += 1\n",
    "            \n",
    "        while j<len(righthalf):\n",
    "            arr[k] = righthalf[j]\n",
    "            j += 1\n",
    "            k += 1"
   ]
  },
  {
   "cell_type": "code",
   "execution_count": 30,
   "metadata": {},
   "outputs": [],
   "source": [
    "arr = [5,3,8,1,6]\n",
    "merge_sort(arr)"
   ]
  },
  {
   "cell_type": "code",
   "execution_count": 31,
   "metadata": {},
   "outputs": [
    {
     "data": {
      "text/plain": [
       "[1, 3, 5, 6, 8]"
      ]
     },
     "execution_count": 31,
     "metadata": {},
     "output_type": "execute_result"
    }
   ],
   "source": [
    "arr"
   ]
  },
  {
   "cell_type": "markdown",
   "metadata": {},
   "source": [
    "# QUICK SORT"
   ]
  },
  {
   "cell_type": "code",
   "execution_count": 35,
   "metadata": {},
   "outputs": [],
   "source": [
    "def quick_sort(arr):\n",
    "    quick_sort_help(arr, 0, len(arr)-1)\n",
    "\n",
    "def quick_sort_help(arr, first, last):\n",
    "    if first<last :\n",
    "        splitpoint = partition(arr, first, last)\n",
    "        \n",
    "        quick_sort_help(arr, first, splitpoint-1)        \n",
    "        quick_sort_help(arr, splitpoint+1, last)\n",
    "        \n",
    "def partition(arr, first, last):\n",
    "    pivotvalue = arr[first]\n",
    "    leftmark = first + 1\n",
    "    rightmark = last \n",
    "    \n",
    "    done = False\n",
    "    \n",
    "    while not done :\n",
    "        while leftmark<=rightmark and arr[leftmark]<=pivotvalue:\n",
    "            leftmark += 1 \n",
    "            \n",
    "        while leftmark<=rightmark and arr[rightmark]>=pivotvalue:\n",
    "            rightmark -= 1\n",
    "        \n",
    "        if rightmark<leftmark:\n",
    "            done = True\n",
    "            \n",
    "        else :\n",
    "            arr[leftmark],arr[rightmark] = arr[rightmark],arr[leftmark]\n",
    "            \n",
    "    arr[first],arr[rightmark] = arr[rightmark],arr[first]\n",
    "    \n",
    "    return rightmark\n",
    "             \n",
    "        \n",
    "            \n",
    "        "
   ]
  },
  {
   "cell_type": "code",
   "execution_count": 36,
   "metadata": {},
   "outputs": [],
   "source": [
    "arr = [5,3,8,1,6]\n",
    "quick_sort(arr)"
   ]
  },
  {
   "cell_type": "code",
   "execution_count": 37,
   "metadata": {},
   "outputs": [
    {
     "data": {
      "text/plain": [
       "[1, 3, 5, 6, 8]"
      ]
     },
     "execution_count": 37,
     "metadata": {},
     "output_type": "execute_result"
    }
   ],
   "source": [
    "arr"
   ]
  },
  {
   "cell_type": "code",
   "execution_count": null,
   "metadata": {},
   "outputs": [],
   "source": []
  }
 ],
 "metadata": {
  "kernelspec": {
   "display_name": "Python 3",
   "language": "python",
   "name": "python3"
  },
  "language_info": {
   "codemirror_mode": {
    "name": "ipython",
    "version": 3
   },
   "file_extension": ".py",
   "mimetype": "text/x-python",
   "name": "python",
   "nbconvert_exporter": "python",
   "pygments_lexer": "ipython3",
   "version": "3.8.2"
  }
 },
 "nbformat": 4,
 "nbformat_minor": 4
}
